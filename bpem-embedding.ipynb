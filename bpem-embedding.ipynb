{
 "cells": [
  {
   "cell_type": "code",
   "execution_count": 39,
   "metadata": {},
   "outputs": [],
   "source": [
    "from bpemb import BPEmb\n",
    "from tqdm import tqdm\n",
    "import csv\n",
    "import numpy as np\n",
    "from sklearn.preprocessing import LabelEncoder\n",
    "bpemb_en=BPEmb(lang=\"en\",dim=50)"
   ]
  },
  {
   "cell_type": "code",
   "execution_count": 48,
   "metadata": {},
   "outputs": [],
   "source": [
    "from keras.utils.np_utils import to_categorical\n",
    "from keras.models import Sequential\n",
    "from keras.layers import Dropout, Conv1D, GlobalMaxPooling1D, Dense, Activation"
   ]
  },
  {
   "cell_type": "code",
   "execution_count": 179,
   "metadata": {},
   "outputs": [],
   "source": [
    "from sklearn.metrics import confusion_matrix, classification_report"
   ]
  },
  {
   "cell_type": "code",
   "execution_count": 3,
   "metadata": {},
   "outputs": [
    {
     "name": "stdout",
     "output_type": "stream",
     "text": [
      "['▁strat', 'ford']\n",
      "(2, 50)\n"
     ]
    }
   ],
   "source": [
    "print(bpemb_en.encode(\"Stratford\"))\n",
    "print(bpemb_en.embed(\"Stratford\").shape)"
   ]
  },
  {
   "cell_type": "code",
   "execution_count": 150,
   "metadata": {},
   "outputs": [],
   "source": [
    "max_len = 0"
   ]
  },
  {
   "cell_type": "code",
   "execution_count": 154,
   "metadata": {},
   "outputs": [
    {
     "name": "stderr",
     "output_type": "stream",
     "text": [
      "100it [00:00, 33498.16it/s]\n"
     ]
    }
   ],
   "source": [
    "with open(\"datasets/Chatbot/train.csv\") as f:\n",
    "    reader = csv.reader(f, delimiter='\\t')\n",
    "    max_len = 0\n",
    "    y = []\n",
    "    for row in tqdm(reader):\n",
    "        y.append(row[1])\n",
    "        sample_len = len(bpemb_en.encode(row[0]))\n",
    "        max_len = sample_len if sample_len > max_len else max_len\n"
   ]
  },
  {
   "cell_type": "code",
   "execution_count": 155,
   "metadata": {},
   "outputs": [
    {
     "name": "stdout",
     "output_type": "stream",
     "text": [
      "32\n",
      "['FindConnection', 'FindConnection', 'FindConnection', 'FindConnection', 'FindConnection', 'FindConnection', 'FindConnection', 'FindConnection', 'FindConnection', 'FindConnection']\n"
     ]
    }
   ],
   "source": [
    "print(max_len)\n",
    "print(y[:10])"
   ]
  },
  {
   "cell_type": "code",
   "execution_count": 26,
   "metadata": {},
   "outputs": [],
   "source": [
    "max_len = max_len + 1"
   ]
  },
  {
   "cell_type": "code",
   "execution_count": 27,
   "metadata": {},
   "outputs": [
    {
     "name": "stdout",
     "output_type": "stream",
     "text": [
      "['DepartureTime' 'FindConnection']\n"
     ]
    }
   ],
   "source": [
    "# label encoder\n",
    "le = LabelEncoder()\n",
    "encoded_labels = le.fit_transform(y)\n",
    "#print(encoded_labels)\n",
    "print(le.classes_)"
   ]
  },
  {
   "cell_type": "code",
   "execution_count": 28,
   "metadata": {},
   "outputs": [],
   "source": [
    "y = to_categorical(encoded_labels, num_classes=len(le.classes_))0"
   ]
  },
  {
   "cell_type": "code",
   "execution_count": 29,
   "metadata": {
    "scrolled": true
   },
   "outputs": [],
   "source": [
    "x = None"
   ]
  },
  {
   "cell_type": "code",
   "execution_count": 127,
   "metadata": {},
   "outputs": [
    {
     "name": "stderr",
     "output_type": "stream",
     "text": [
      "100it [00:00, 4180.18it/s]\n"
     ]
    }
   ],
   "source": [
    "with open(\"datasets/Chatbot/train.csv\") as f:\n",
    "        reader = csv.reader(f, delimiter='\\t')\n",
    "        x = None\n",
    "        \n",
    "        for row in tqdm(reader):            \n",
    "            # features\n",
    "            embeddings = bpemb_en.embed(row[0])\n",
    "            padding_vec = np.zeros((max_len - embeddings.shape[0], 50))\n",
    "            padded = np.vstack((embeddings, padding_vec))\n",
    "            padded = np.expand_dims(padded, axis=0)\n",
    "            #print(padded.shape)\n",
    "            if x is not None:\n",
    "                x = np.vstack((x, padded))\n",
    "            else:\n",
    "                x = padded"
   ]
  },
  {
   "cell_type": "code",
   "execution_count": 119,
   "metadata": {},
   "outputs": [],
   "source": [
    "def file_to_x(filename=\"datasets/Chatbot/train.csv\", max_len=max_len):\n",
    "    max_len = max_len+1\n",
    "    \n",
    "    with open(filename) as f:\n",
    "        reader = csv.reader(f, delimiter='\\t')\n",
    "        y = []\n",
    "        for row in tqdm(reader):\n",
    "            y.append(row[1])\n",
    "        y = to_categorical(encoded_labels, num_classes=len(le.classes_))\n",
    "        \n",
    "    with open(filename) as f:\n",
    "        reader = csv.reader(f, delimiter='\\t')\n",
    "        x = None\n",
    "        \n",
    "        for row in tqdm(reader):            \n",
    "            # features\n",
    "            embeddings = bpemb_en.embed(row[0])\n",
    "            padding_vec = np.zeros((max_len - embeddings.shape[0], 50))\n",
    "            padded = np.vstack((embeddings, padding_vec))\n",
    "            padded = np.expand_dims(padded, axis=0)\n",
    "            #print(padded.shape)\n",
    "            if x is not None:\n",
    "                x = np.vstack((x, padded))\n",
    "            else:\n",
    "                x = padded\n",
    "                \n",
    "    \n",
    "\n",
    "            \n",
    "            \n",
    "    return x, y"
   ]
  },
  {
   "cell_type": "code",
   "execution_count": 31,
   "metadata": {},
   "outputs": [
    {
     "data": {
      "text/plain": [
       "(100, 33, 50)"
      ]
     },
     "execution_count": 31,
     "metadata": {},
     "output_type": "execute_result"
    }
   ],
   "source": [
    "x.shape"
   ]
  },
  {
   "cell_type": "code",
   "execution_count": 53,
   "metadata": {},
   "outputs": [],
   "source": [
    "batch_size = 32\n",
    "filters = 250\n",
    "kernel_size = 3\n",
    "hidden_dims = 250\n",
    "epochs = 200"
   ]
  },
  {
   "cell_type": "code",
   "execution_count": 35,
   "metadata": {},
   "outputs": [
    {
     "name": "stdout",
     "output_type": "stream",
     "text": [
      "Bulding the Neural Network\n"
     ]
    }
   ],
   "source": [
    "print(\"Bulding the Neural Network\")"
   ]
  },
  {
   "cell_type": "code",
   "execution_count": 57,
   "metadata": {},
   "outputs": [],
   "source": [
    "model = Sequential()\n",
    "\n",
    "# Dropping 20% nodes from the embedding layers\n",
    "model.add(Dropout(0.2))\n",
    "\n",
    "# we add a Convolution1D, which will learn filters\n",
    "# word group filters of size filter_length:\n",
    "model.add(Conv1D(filters,\n",
    "                 kernel_size,\n",
    "                 padding='valid',\n",
    "                 activation='relu',\n",
    "                 strides=1))\n",
    "# we use max pooling:\n",
    "model.add(GlobalMaxPooling1D())\n",
    "\n",
    "# We add a vanilla hidden layer:\n",
    "model.add(Dense(hidden_dims))\n",
    "model.add(Dropout(0.2))\n",
    "model.add(Activation('relu'))\n",
    "\n",
    "# We project onto a single unit output layer, and squash it with a sigmoid:\n",
    "model.add(Dense(len(le.classes_)))\n",
    "model.add(Activation('sigmoid'))\n",
    "\n",
    "# compiling the model\n",
    "model.compile(loss='binary_crossentropy',\n",
    "              optimizer='adam',\n",
    "              metrics=['accuracy'])"
   ]
  },
  {
   "cell_type": "code",
   "execution_count": 58,
   "metadata": {
    "scrolled": true
   },
   "outputs": [
    {
     "name": "stdout",
     "output_type": "stream",
     "text": [
      "Train on 90 samples, validate on 10 samples\n",
      "Epoch 1/20\n",
      "90/90 [==============================] - ETA: 1s - loss: 0.7993 - acc: 0.468 - 1s 8ms/step - loss: 0.7136 - acc: 0.5167 - val_loss: 0.6190 - val_acc: 0.7500\n",
      "Epoch 2/20\n",
      "90/90 [==============================] - ETA: 0s - loss: 0.6983 - acc: 0.500 - 0s 211us/step - loss: 0.6317 - acc: 0.6333 - val_loss: 0.5802 - val_acc: 0.8000\n",
      "Epoch 3/20\n",
      "90/90 [==============================] - ETA: 0s - loss: 0.5644 - acc: 0.750 - 0s 233us/step - loss: 0.5434 - acc: 0.7500 - val_loss: 0.5177 - val_acc: 0.9000\n",
      "Epoch 4/20\n",
      "90/90 [==============================] - ETA: 0s - loss: 0.4882 - acc: 0.875 - 0s 211us/step - loss: 0.4716 - acc: 0.8333 - val_loss: 0.4431 - val_acc: 0.9000\n",
      "Epoch 5/20\n",
      "90/90 [==============================] - ETA: 0s - loss: 0.4531 - acc: 0.828 - 0s 222us/step - loss: 0.4147 - acc: 0.8556 - val_loss: 0.3617 - val_acc: 0.9500\n",
      "Epoch 6/20\n",
      "90/90 [==============================] - ETA: 0s - loss: 0.3444 - acc: 0.921 - 0s 211us/step - loss: 0.3374 - acc: 0.9000 - val_loss: 0.2865 - val_acc: 1.0000\n",
      "Epoch 7/20\n",
      "90/90 [==============================] - ETA: 0s - loss: 0.3408 - acc: 0.906 - 0s 210us/step - loss: 0.2745 - acc: 0.9056 - val_loss: 0.2238 - val_acc: 0.9500\n",
      "Epoch 8/20\n",
      "90/90 [==============================] - ETA: 0s - loss: 0.2595 - acc: 0.906 - 0s 222us/step - loss: 0.2580 - acc: 0.9167 - val_loss: 0.1715 - val_acc: 1.0000\n",
      "Epoch 9/20\n",
      "90/90 [==============================] - ETA: 0s - loss: 0.1350 - acc: 0.984 - 0s 211us/step - loss: 0.2122 - acc: 0.9444 - val_loss: 0.1329 - val_acc: 1.0000\n",
      "Epoch 10/20\n",
      "90/90 [==============================] - ETA: 0s - loss: 0.1484 - acc: 0.968 - 0s 211us/step - loss: 0.1814 - acc: 0.9444 - val_loss: 0.1058 - val_acc: 1.0000\n",
      "Epoch 11/20\n",
      "90/90 [==============================] - ETA: 0s - loss: 0.1623 - acc: 0.937 - 0s 199us/step - loss: 0.1556 - acc: 0.9556 - val_loss: 0.0915 - val_acc: 1.0000\n",
      "Epoch 12/20\n",
      "90/90 [==============================] - ETA: 0s - loss: 0.0918 - acc: 0.984 - 0s 200us/step - loss: 0.1510 - acc: 0.9611 - val_loss: 0.0813 - val_acc: 1.0000\n",
      "Epoch 13/20\n",
      "90/90 [==============================] - ETA: 0s - loss: 0.1595 - acc: 0.968 - 0s 211us/step - loss: 0.1324 - acc: 0.9556 - val_loss: 0.0663 - val_acc: 1.0000\n",
      "Epoch 14/20\n",
      "90/90 [==============================] - ETA: 0s - loss: 0.0751 - acc: 1.000 - 0s 199us/step - loss: 0.0980 - acc: 0.9722 - val_loss: 0.0560 - val_acc: 1.0000\n",
      "Epoch 15/20\n",
      "90/90 [==============================] - ETA: 0s - loss: 0.0324 - acc: 1.000 - 0s 222us/step - loss: 0.0852 - acc: 0.9833 - val_loss: 0.0479 - val_acc: 1.0000\n",
      "Epoch 16/20\n",
      "90/90 [==============================] - ETA: 0s - loss: 0.0688 - acc: 1.000 - 0s 233us/step - loss: 0.0799 - acc: 0.9889 - val_loss: 0.0454 - val_acc: 1.0000\n",
      "Epoch 17/20\n",
      "90/90 [==============================] - ETA: 0s - loss: 0.1170 - acc: 0.953 - 0s 199us/step - loss: 0.0757 - acc: 0.9722 - val_loss: 0.0523 - val_acc: 1.0000\n",
      "Epoch 18/20\n",
      "90/90 [==============================] - ETA: 0s - loss: 0.0683 - acc: 1.000 - 0s 222us/step - loss: 0.0497 - acc: 1.0000 - val_loss: 0.0398 - val_acc: 1.0000\n",
      "Epoch 19/20\n",
      "90/90 [==============================] - ETA: 0s - loss: 0.0767 - acc: 0.968 - 0s 244us/step - loss: 0.0532 - acc: 0.9889 - val_loss: 0.0290 - val_acc: 1.0000\n",
      "Epoch 20/20\n",
      "90/90 [==============================] - ETA: 0s - loss: 0.0367 - acc: 1.000 - 0s 233us/step - loss: 0.0369 - acc: 0.9889 - val_loss: 0.0249 - val_acc: 1.0000\n"
     ]
    },
    {
     "data": {
      "text/plain": [
       "<keras.callbacks.History at 0x233937350f0>"
      ]
     },
     "execution_count": 58,
     "metadata": {},
     "output_type": "execute_result"
    }
   ],
   "source": [
    "model.fit(x, y,\n",
    "          batch_size=batch_size,\n",
    "          epochs=20,\n",
    "          validation_split=0.1)"
   ]
  },
  {
   "cell_type": "code",
   "execution_count": 120,
   "metadata": {},
   "outputs": [
    {
     "name": "stderr",
     "output_type": "stream",
     "text": [
      "106it [00:00, 106286.45it/s]\n",
      "106it [00:00, 3538.96it/s]\n"
     ]
    }
   ],
   "source": [
    "x_test, y_test = file_to_x(filename=\"datasets/Chatbot/test.csv\")"
   ]
  },
  {
   "cell_type": "code",
   "execution_count": 121,
   "metadata": {},
   "outputs": [],
   "source": [
    "pred = model.predict_classes(x_test)"
   ]
  },
  {
   "cell_type": "code",
   "execution_count": 125,
   "metadata": {},
   "outputs": [
    {
     "data": {
      "text/plain": [
       "106"
      ]
     },
     "execution_count": 125,
     "metadata": {},
     "output_type": "execute_result"
    }
   ],
   "source": [
    "len(x_test)"
   ]
  },
  {
   "cell_type": "code",
   "execution_count": 122,
   "metadata": {},
   "outputs": [],
   "source": [
    "pred_cat = to_categorical(pred)"
   ]
  },
  {
   "cell_type": "code",
   "execution_count": 123,
   "metadata": {},
   "outputs": [
    {
     "data": {
      "text/plain": [
       "106"
      ]
     },
     "execution_count": 123,
     "metadata": {},
     "output_type": "execute_result"
    }
   ],
   "source": [
    "len(pred_cat)"
   ]
  },
  {
   "cell_type": "code",
   "execution_count": 156,
   "metadata": {},
   "outputs": [],
   "source": [
    "max_len = max_len + 1"
   ]
  },
  {
   "cell_type": "code",
   "execution_count": 157,
   "metadata": {},
   "outputs": [
    {
     "name": "stderr",
     "output_type": "stream",
     "text": [
      "106it [00:00, 108969.66it/s]\n"
     ]
    }
   ],
   "source": [
    "with open(\"datasets/Chatbot/test.csv\") as f:\n",
    "    reader = csv.reader(f, delimiter='\\t')\n",
    "    \n",
    "    y_test = []\n",
    "    for row in tqdm(reader):\n",
    "        y_test.append(row[1])"
   ]
  },
  {
   "cell_type": "code",
   "execution_count": 170,
   "metadata": {},
   "outputs": [],
   "source": [
    "y_test = to_categorical(le.transform(y_test))"
   ]
  },
  {
   "cell_type": "code",
   "execution_count": 158,
   "metadata": {},
   "outputs": [
    {
     "data": {
      "text/plain": [
       "33"
      ]
     },
     "execution_count": 158,
     "metadata": {},
     "output_type": "execute_result"
    }
   ],
   "source": [
    "max_len"
   ]
  },
  {
   "cell_type": "code",
   "execution_count": 159,
   "metadata": {},
   "outputs": [
    {
     "name": "stderr",
     "output_type": "stream",
     "text": [
      "106it [00:00, 4082.95it/s]\n"
     ]
    }
   ],
   "source": [
    "with open(\"datasets/Chatbot/test.csv\") as f:\n",
    "        reader = csv.reader(f, delimiter='\\t')\n",
    "        x_test = None\n",
    "        \n",
    "        for row in tqdm(reader):            \n",
    "            # features\n",
    "            embeddings = bpemb_en.embed(row[0])\n",
    "            padding_vec = np.zeros((max_len - embeddings.shape[0], 50))\n",
    "            padded = np.vstack((embeddings, padding_vec))\n",
    "            padded = np.expand_dims(padded, axis=0)\n",
    "            #print(padded.shape)\n",
    "            if x_test is not None:\n",
    "                x_test = np.vstack((x_test, padded))\n",
    "            else:\n",
    "                x_test = padded"
   ]
  },
  {
   "cell_type": "code",
   "execution_count": 171,
   "metadata": {},
   "outputs": [],
   "source": [
    "pred = model.predict_classes(x_test)\n",
    "pred_cat = to_categorical(pred)"
   ]
  },
  {
   "cell_type": "code",
   "execution_count": 180,
   "metadata": {},
   "outputs": [
    {
     "data": {
      "text/plain": [
       "array([[34,  1],\n",
       "       [ 1, 70]], dtype=int64)"
      ]
     },
     "execution_count": 180,
     "metadata": {},
     "output_type": "execute_result"
    }
   ],
   "source": [
    "confusion_matrix(np.argmax(y_test, axis=1), np.argmax(pred_cat, axis=1))"
   ]
  },
  {
   "cell_type": "code",
   "execution_count": 182,
   "metadata": {},
   "outputs": [
    {
     "name": "stdout",
     "output_type": "stream",
     "text": [
      "              precision    recall  f1-score   support\n",
      "\n",
      "           0       0.97      0.97      0.97        35\n",
      "           1       0.99      0.99      0.99        71\n",
      "\n",
      "   micro avg       0.98      0.98      0.98       106\n",
      "   macro avg       0.98      0.98      0.98       106\n",
      "weighted avg       0.98      0.98      0.98       106\n",
      "\n"
     ]
    }
   ],
   "source": [
    "print(classification_report(np.argmax(y_test, axis=1), np.argmax(pred_cat, axis=1)))"
   ]
  },
  {
   "cell_type": "code",
   "execution_count": null,
   "metadata": {},
   "outputs": [],
   "source": []
  }
 ],
 "metadata": {
  "kernelspec": {
   "display_name": "Python 3",
   "language": "python",
   "name": "python3"
  },
  "language_info": {
   "codemirror_mode": {
    "name": "ipython",
    "version": 3
   },
   "file_extension": ".py",
   "mimetype": "text/x-python",
   "name": "python",
   "nbconvert_exporter": "python",
   "pygments_lexer": "ipython3",
   "version": "3.5.5"
  }
 },
 "nbformat": 4,
 "nbformat_minor": 2
}
