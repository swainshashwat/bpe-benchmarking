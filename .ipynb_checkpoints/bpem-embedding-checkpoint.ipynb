{
 "cells": [
  {
   "cell_type": "code",
   "execution_count": 39,
   "metadata": {},
   "outputs": [],
   "source": [
    "from bpemb import BPEmb\n",
    "from tqdm import tqdm\n",
    "import csv\n",
    "import numpy as np\n",
    "from sklearn.preprocessing import LabelEncoder\n",
    "bpemb_en=BPEmb(lang=\"en\",dim=50)"
   ]
  },
  {
   "cell_type": "code",
   "execution_count": 48,
   "metadata": {},
   "outputs": [],
   "source": [
    "from keras.utils.np_utils import to_categorical\n",
    "from keras.models import Sequential\n",
    "from keras.layers import Dropout, Conv1D, GlobalMaxPooling1D, Dense, Activation"
   ]
  },
  {
   "cell_type": "code",
   "execution_count": 3,
   "metadata": {},
   "outputs": [
    {
     "name": "stdout",
     "output_type": "stream",
     "text": [
      "['▁strat', 'ford']\n",
      "(2, 50)\n"
     ]
    }
   ],
   "source": [
    "print(bpemb_en.encode(\"Stratford\"))\n",
    "print(bpemb_en.embed(\"Stratford\").shape)"
   ]
  },
  {
   "cell_type": "code",
   "execution_count": 94,
   "metadata": {},
   "outputs": [
    {
     "name": "stderr",
     "output_type": "stream",
     "text": [
      "100it [00:00, 20053.09it/s]\n"
     ]
    }
   ],
   "source": [
    "with open(\"datasets/Chatbot/train.csv\") as f:\n",
    "    reader = csv.reader(f, delimiter='\\t')\n",
    "    max_len = 0\n",
    "    y = []\n",
    "    for row in tqdm(reader):\n",
    "        y.append(row[1])\n",
    "        sample_len = len(bpemb_en.encode(row[0]))\n",
    "        max_len = sample_len if sample_len > max_len else max_len\n"
   ]
  },
  {
   "cell_type": "code",
   "execution_count": 25,
   "metadata": {},
   "outputs": [
    {
     "name": "stdout",
     "output_type": "stream",
     "text": [
      "32\n",
      "['FindConnection', 'FindConnection', 'FindConnection', 'FindConnection', 'FindConnection', 'FindConnection', 'FindConnection', 'FindConnection', 'FindConnection', 'FindConnection']\n"
     ]
    }
   ],
   "source": [
    "print(max_len)\n",
    "print(y[:10])"
   ]
  },
  {
   "cell_type": "code",
   "execution_count": 26,
   "metadata": {},
   "outputs": [],
   "source": [
    "max_len = max_len + 1"
   ]
  },
  {
   "cell_type": "code",
   "execution_count": 27,
   "metadata": {},
   "outputs": [
    {
     "name": "stdout",
     "output_type": "stream",
     "text": [
      "['DepartureTime' 'FindConnection']\n"
     ]
    }
   ],
   "source": [
    "# label encoder\n",
    "le = LabelEncoder()\n",
    "encoded_labels = le.fit_transform(y)\n",
    "#print(encoded_labels)\n",
    "print(le.classes_)"
   ]
  },
  {
   "cell_type": "code",
   "execution_count": 28,
   "metadata": {},
   "outputs": [],
   "source": [
    "y = to_categorical(encoded_labels, num_classes=len(le.classes_))"
   ]
  },
  {
   "cell_type": "code",
   "execution_count": 29,
   "metadata": {
    "scrolled": true
   },
   "outputs": [],
   "source": [
    "x = None"
   ]
  },
  {
   "cell_type": "code",
   "execution_count": 92,
   "metadata": {},
   "outputs": [],
   "source": [
    "def file_to_x(filename=\"datasets/Chatbot/train.csv\", max_len=max_len):\n",
    "\n",
    "    with open(filename) as f:\n",
    "        reader = csv.reader(f, delimiter='\\t')\n",
    "        y = np.array([])\n",
    "        x = None\n",
    "        for row in tqdm(reader):            \n",
    "            # features\n",
    "            embeddings = bpemb_en.embed(row[0])\n",
    "            padding_vec = np.zeros((max_len - embeddings.shape[0], 50))\n",
    "            padded = np.vstack((embeddings, padding_vec))\n",
    "            padded = np.expand_dims(padded, axis=0)\n",
    "            #print(padded.shape)\n",
    "            if x is not None:\n",
    "                x = np.vstack((x, padded))\n",
    "            else:\n",
    "                x = padded\n",
    "                \n",
    "    with open(filename) as f:\n",
    "        reader = csv.reader(f, delimiter='\\t')\n",
    "        max_len = 0\n",
    "        y = []\n",
    "        for row in tqdm(reader):\n",
    "            y.append(row[1])\n",
    "        y = to_categorical(encoded_labels, num_classes=len(le.classes_))\n",
    "\n",
    "            \n",
    "            \n",
    "    return x, y, max_len"
   ]
  },
  {
   "cell_type": "code",
   "execution_count": 31,
   "metadata": {},
   "outputs": [
    {
     "data": {
      "text/plain": [
       "(100, 33, 50)"
      ]
     },
     "execution_count": 31,
     "metadata": {},
     "output_type": "execute_result"
    }
   ],
   "source": [
    "x.shape"
   ]
  },
  {
   "cell_type": "code",
   "execution_count": 53,
   "metadata": {},
   "outputs": [],
   "source": [
    "batch_size = 32\n",
    "filters = 250\n",
    "kernel_size = 3\n",
    "hidden_dims = 250\n",
    "epochs = 200"
   ]
  },
  {
   "cell_type": "code",
   "execution_count": 35,
   "metadata": {},
   "outputs": [
    {
     "name": "stdout",
     "output_type": "stream",
     "text": [
      "Bulding the Neural Network\n"
     ]
    }
   ],
   "source": [
    "print(\"Bulding the Neural Network\")"
   ]
  },
  {
   "cell_type": "code",
   "execution_count": 57,
   "metadata": {},
   "outputs": [],
   "source": [
    "model = Sequential()\n",
    "\n",
    "# Dropping 20% nodes from the embedding layers\n",
    "model.add(Dropout(0.2))\n",
    "\n",
    "# we add a Convolution1D, which will learn filters\n",
    "# word group filters of size filter_length:\n",
    "model.add(Conv1D(filters,\n",
    "                 kernel_size,\n",
    "                 padding='valid',\n",
    "                 activation='relu',\n",
    "                 strides=1))\n",
    "# we use max pooling:\n",
    "model.add(GlobalMaxPooling1D())\n",
    "\n",
    "# We add a vanilla hidden layer:\n",
    "model.add(Dense(hidden_dims))\n",
    "model.add(Dropout(0.2))\n",
    "model.add(Activation('relu'))\n",
    "\n",
    "# We project onto a single unit output layer, and squash it with a sigmoid:\n",
    "model.add(Dense(len(le.classes_)))\n",
    "model.add(Activation('sigmoid'))\n",
    "\n",
    "# compiling the model\n",
    "model.compile(loss='binary_crossentropy',\n",
    "              optimizer='adam',\n",
    "              metrics=['accuracy'])"
   ]
  },
  {
   "cell_type": "code",
   "execution_count": 58,
   "metadata": {
    "scrolled": true
   },
   "outputs": [
    {
     "name": "stdout",
     "output_type": "stream",
     "text": [
      "Train on 90 samples, validate on 10 samples\n",
      "Epoch 1/20\n",
      "90/90 [==============================] - ETA: 1s - loss: 0.7993 - acc: 0.468 - 1s 8ms/step - loss: 0.7136 - acc: 0.5167 - val_loss: 0.6190 - val_acc: 0.7500\n",
      "Epoch 2/20\n",
      "90/90 [==============================] - ETA: 0s - loss: 0.6983 - acc: 0.500 - 0s 211us/step - loss: 0.6317 - acc: 0.6333 - val_loss: 0.5802 - val_acc: 0.8000\n",
      "Epoch 3/20\n",
      "90/90 [==============================] - ETA: 0s - loss: 0.5644 - acc: 0.750 - 0s 233us/step - loss: 0.5434 - acc: 0.7500 - val_loss: 0.5177 - val_acc: 0.9000\n",
      "Epoch 4/20\n",
      "90/90 [==============================] - ETA: 0s - loss: 0.4882 - acc: 0.875 - 0s 211us/step - loss: 0.4716 - acc: 0.8333 - val_loss: 0.4431 - val_acc: 0.9000\n",
      "Epoch 5/20\n",
      "90/90 [==============================] - ETA: 0s - loss: 0.4531 - acc: 0.828 - 0s 222us/step - loss: 0.4147 - acc: 0.8556 - val_loss: 0.3617 - val_acc: 0.9500\n",
      "Epoch 6/20\n",
      "90/90 [==============================] - ETA: 0s - loss: 0.3444 - acc: 0.921 - 0s 211us/step - loss: 0.3374 - acc: 0.9000 - val_loss: 0.2865 - val_acc: 1.0000\n",
      "Epoch 7/20\n",
      "90/90 [==============================] - ETA: 0s - loss: 0.3408 - acc: 0.906 - 0s 210us/step - loss: 0.2745 - acc: 0.9056 - val_loss: 0.2238 - val_acc: 0.9500\n",
      "Epoch 8/20\n",
      "90/90 [==============================] - ETA: 0s - loss: 0.2595 - acc: 0.906 - 0s 222us/step - loss: 0.2580 - acc: 0.9167 - val_loss: 0.1715 - val_acc: 1.0000\n",
      "Epoch 9/20\n",
      "90/90 [==============================] - ETA: 0s - loss: 0.1350 - acc: 0.984 - 0s 211us/step - loss: 0.2122 - acc: 0.9444 - val_loss: 0.1329 - val_acc: 1.0000\n",
      "Epoch 10/20\n",
      "90/90 [==============================] - ETA: 0s - loss: 0.1484 - acc: 0.968 - 0s 211us/step - loss: 0.1814 - acc: 0.9444 - val_loss: 0.1058 - val_acc: 1.0000\n",
      "Epoch 11/20\n",
      "90/90 [==============================] - ETA: 0s - loss: 0.1623 - acc: 0.937 - 0s 199us/step - loss: 0.1556 - acc: 0.9556 - val_loss: 0.0915 - val_acc: 1.0000\n",
      "Epoch 12/20\n",
      "90/90 [==============================] - ETA: 0s - loss: 0.0918 - acc: 0.984 - 0s 200us/step - loss: 0.1510 - acc: 0.9611 - val_loss: 0.0813 - val_acc: 1.0000\n",
      "Epoch 13/20\n",
      "90/90 [==============================] - ETA: 0s - loss: 0.1595 - acc: 0.968 - 0s 211us/step - loss: 0.1324 - acc: 0.9556 - val_loss: 0.0663 - val_acc: 1.0000\n",
      "Epoch 14/20\n",
      "90/90 [==============================] - ETA: 0s - loss: 0.0751 - acc: 1.000 - 0s 199us/step - loss: 0.0980 - acc: 0.9722 - val_loss: 0.0560 - val_acc: 1.0000\n",
      "Epoch 15/20\n",
      "90/90 [==============================] - ETA: 0s - loss: 0.0324 - acc: 1.000 - 0s 222us/step - loss: 0.0852 - acc: 0.9833 - val_loss: 0.0479 - val_acc: 1.0000\n",
      "Epoch 16/20\n",
      "90/90 [==============================] - ETA: 0s - loss: 0.0688 - acc: 1.000 - 0s 233us/step - loss: 0.0799 - acc: 0.9889 - val_loss: 0.0454 - val_acc: 1.0000\n",
      "Epoch 17/20\n",
      "90/90 [==============================] - ETA: 0s - loss: 0.1170 - acc: 0.953 - 0s 199us/step - loss: 0.0757 - acc: 0.9722 - val_loss: 0.0523 - val_acc: 1.0000\n",
      "Epoch 18/20\n",
      "90/90 [==============================] - ETA: 0s - loss: 0.0683 - acc: 1.000 - 0s 222us/step - loss: 0.0497 - acc: 1.0000 - val_loss: 0.0398 - val_acc: 1.0000\n",
      "Epoch 19/20\n",
      "90/90 [==============================] - ETA: 0s - loss: 0.0767 - acc: 0.968 - 0s 244us/step - loss: 0.0532 - acc: 0.9889 - val_loss: 0.0290 - val_acc: 1.0000\n",
      "Epoch 20/20\n",
      "90/90 [==============================] - ETA: 0s - loss: 0.0367 - acc: 1.000 - 0s 233us/step - loss: 0.0369 - acc: 0.9889 - val_loss: 0.0249 - val_acc: 1.0000\n"
     ]
    },
    {
     "data": {
      "text/plain": [
       "<keras.callbacks.History at 0x233937350f0>"
      ]
     },
     "execution_count": 58,
     "metadata": {},
     "output_type": "execute_result"
    }
   ],
   "source": [
    "model.fit(x, y,\n",
    "          batch_size=batch_size,\n",
    "          epochs=20,\n",
    "          validation_split=0.1)"
   ]
  },
  {
   "cell_type": "code",
   "execution_count": 93,
   "metadata": {},
   "outputs": [
    {
     "name": "stderr",
     "output_type": "stream",
     "text": [
      "0it [00:00, ?it/s]\n"
     ]
    },
    {
     "ename": "ValueError",
     "evalue": "bad input shape (0, 2)",
     "output_type": "error",
     "traceback": [
      "\u001b[1;31m---------------------------------------------------------------------------\u001b[0m",
      "\u001b[1;31mValueError\u001b[0m                                Traceback (most recent call last)",
      "\u001b[1;32m<ipython-input-93-a65f280a9e9f>\u001b[0m in \u001b[0;36m<module>\u001b[1;34m()\u001b[0m\n\u001b[1;32m----> 1\u001b[1;33m \u001b[0mx_test\u001b[0m\u001b[1;33m,\u001b[0m \u001b[0my_test\u001b[0m\u001b[1;33m,\u001b[0m \u001b[0mmax_len_test\u001b[0m \u001b[1;33m=\u001b[0m \u001b[0mfile_to_x\u001b[0m\u001b[1;33m(\u001b[0m\u001b[0mfilename\u001b[0m\u001b[1;33m=\u001b[0m\u001b[1;34m\"datasets/Chatbot/test.csv\"\u001b[0m\u001b[1;33m)\u001b[0m\u001b[1;33m\u001b[0m\u001b[0m\n\u001b[0m",
      "\u001b[1;32m<ipython-input-92-d00bad1c8387>\u001b[0m in \u001b[0;36mfile_to_x\u001b[1;34m(filename, max_len)\u001b[0m\n\u001b[0;32m      9\u001b[0m             \u001b[0mnp\u001b[0m\u001b[1;33m.\u001b[0m\u001b[0mappend\u001b[0m\u001b[1;33m(\u001b[0m\u001b[0my\u001b[0m\u001b[1;33m,\u001b[0m \u001b[0mrow\u001b[0m\u001b[1;33m[\u001b[0m\u001b[1;36m1\u001b[0m\u001b[1;33m]\u001b[0m\u001b[1;33m)\u001b[0m\u001b[1;33m\u001b[0m\u001b[0m\n\u001b[0;32m     10\u001b[0m             \u001b[0ml2\u001b[0m \u001b[1;33m=\u001b[0m \u001b[0mLabelEncoder\u001b[0m\u001b[1;33m(\u001b[0m\u001b[1;33m)\u001b[0m\u001b[1;33m\u001b[0m\u001b[0m\n\u001b[1;32m---> 11\u001b[1;33m             \u001b[0mencoded_labels\u001b[0m \u001b[1;33m=\u001b[0m \u001b[0ml2\u001b[0m\u001b[1;33m.\u001b[0m\u001b[0mfit_transform\u001b[0m\u001b[1;33m(\u001b[0m\u001b[0my\u001b[0m\u001b[1;33m)\u001b[0m\u001b[1;33m\u001b[0m\u001b[0m\n\u001b[0m\u001b[0;32m     12\u001b[0m             \u001b[0my\u001b[0m \u001b[1;33m=\u001b[0m \u001b[0mto_categorical\u001b[0m\u001b[1;33m(\u001b[0m\u001b[0mencoded_labels\u001b[0m\u001b[1;33m,\u001b[0m \u001b[0mnum_classes\u001b[0m\u001b[1;33m=\u001b[0m\u001b[0mlen\u001b[0m\u001b[1;33m(\u001b[0m\u001b[0mle\u001b[0m\u001b[1;33m.\u001b[0m\u001b[0mclasses_\u001b[0m\u001b[1;33m)\u001b[0m\u001b[1;33m)\u001b[0m\u001b[1;33m\u001b[0m\u001b[0m\n\u001b[0;32m     13\u001b[0m \u001b[1;33m\u001b[0m\u001b[0m\n",
      "\u001b[1;32mD:\\Anaconda3\\envs\\bpe-benchmark\\lib\\site-packages\\sklearn\\preprocessing\\label.py\u001b[0m in \u001b[0;36mfit_transform\u001b[1;34m(self, y)\u001b[0m\n\u001b[0;32m    233\u001b[0m         \u001b[0my\u001b[0m \u001b[1;33m:\u001b[0m \u001b[0marray\u001b[0m\u001b[1;33m-\u001b[0m\u001b[0mlike\u001b[0m \u001b[0mof\u001b[0m \u001b[0mshape\u001b[0m \u001b[1;33m[\u001b[0m\u001b[0mn_samples\u001b[0m\u001b[1;33m]\u001b[0m\u001b[1;33m\u001b[0m\u001b[0m\n\u001b[0;32m    234\u001b[0m         \"\"\"\n\u001b[1;32m--> 235\u001b[1;33m         \u001b[0my\u001b[0m \u001b[1;33m=\u001b[0m \u001b[0mcolumn_or_1d\u001b[0m\u001b[1;33m(\u001b[0m\u001b[0my\u001b[0m\u001b[1;33m,\u001b[0m \u001b[0mwarn\u001b[0m\u001b[1;33m=\u001b[0m\u001b[1;32mTrue\u001b[0m\u001b[1;33m)\u001b[0m\u001b[1;33m\u001b[0m\u001b[0m\n\u001b[0m\u001b[0;32m    236\u001b[0m         \u001b[0mself\u001b[0m\u001b[1;33m.\u001b[0m\u001b[0mclasses_\u001b[0m\u001b[1;33m,\u001b[0m \u001b[0my\u001b[0m \u001b[1;33m=\u001b[0m \u001b[0m_encode\u001b[0m\u001b[1;33m(\u001b[0m\u001b[0my\u001b[0m\u001b[1;33m,\u001b[0m \u001b[0mencode\u001b[0m\u001b[1;33m=\u001b[0m\u001b[1;32mTrue\u001b[0m\u001b[1;33m)\u001b[0m\u001b[1;33m\u001b[0m\u001b[0m\n\u001b[0;32m    237\u001b[0m         \u001b[1;32mreturn\u001b[0m \u001b[0my\u001b[0m\u001b[1;33m\u001b[0m\u001b[0m\n",
      "\u001b[1;32mD:\\Anaconda3\\envs\\bpe-benchmark\\lib\\site-packages\\sklearn\\utils\\validation.py\u001b[0m in \u001b[0;36mcolumn_or_1d\u001b[1;34m(y, warn)\u001b[0m\n\u001b[0;32m    795\u001b[0m         \u001b[1;32mreturn\u001b[0m \u001b[0mnp\u001b[0m\u001b[1;33m.\u001b[0m\u001b[0mravel\u001b[0m\u001b[1;33m(\u001b[0m\u001b[0my\u001b[0m\u001b[1;33m)\u001b[0m\u001b[1;33m\u001b[0m\u001b[0m\n\u001b[0;32m    796\u001b[0m \u001b[1;33m\u001b[0m\u001b[0m\n\u001b[1;32m--> 797\u001b[1;33m     \u001b[1;32mraise\u001b[0m \u001b[0mValueError\u001b[0m\u001b[1;33m(\u001b[0m\u001b[1;34m\"bad input shape {0}\"\u001b[0m\u001b[1;33m.\u001b[0m\u001b[0mformat\u001b[0m\u001b[1;33m(\u001b[0m\u001b[0mshape\u001b[0m\u001b[1;33m)\u001b[0m\u001b[1;33m)\u001b[0m\u001b[1;33m\u001b[0m\u001b[0m\n\u001b[0m\u001b[0;32m    798\u001b[0m \u001b[1;33m\u001b[0m\u001b[0m\n\u001b[0;32m    799\u001b[0m \u001b[1;33m\u001b[0m\u001b[0m\n",
      "\u001b[1;31mValueError\u001b[0m: bad input shape (0, 2)"
     ]
    }
   ],
   "source": [
    "x_test, y_test, max_len_test = file_to_x(filename=\"datasets/Chatbot/test.csv\")"
   ]
  },
  {
   "cell_type": "code",
   "execution_count": null,
   "metadata": {},
   "outputs": [],
   "source": []
  }
 ],
 "metadata": {
  "kernelspec": {
   "display_name": "Python 3",
   "language": "python",
   "name": "python3"
  },
  "language_info": {
   "codemirror_mode": {
    "name": "ipython",
    "version": 3
   },
   "file_extension": ".py",
   "mimetype": "text/x-python",
   "name": "python",
   "nbconvert_exporter": "python",
   "pygments_lexer": "ipython3",
   "version": "3.5.5"
  }
 },
 "nbformat": 4,
 "nbformat_minor": 2
}
